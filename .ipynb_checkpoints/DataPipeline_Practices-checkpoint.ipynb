{
 "cells": [
  {
   "cell_type": "code",
   "execution_count": 72,
   "metadata": {},
   "outputs": [],
   "source": [
    "#Pythogh Data Pipelines practices."
   ]
  },
  {
   "cell_type": "code",
   "execution_count": 95,
   "metadata": {},
   "outputs": [
    {
     "name": "stdout",
     "output_type": "stream",
     "text": [
      "Please enter your age:159\n",
      "Ayesha and Emaan Love for both of you! 159\n",
      "The type: <class 'NoneType'>\n"
     ]
    }
   ],
   "source": [
    "def findhuby(str1,str2):\n",
    "    #Collect info.\n",
    "    v_age=int(input(\"Please enter your age:\"))\n",
    "    if str1.upper() == \"Ayesha\".upper() or str2.upper() ==\"Emaan\".upper():\n",
    "        print(str1,\"and\",str2,\"Love for both of you!\",v_age)\n",
    "    else:\n",
    "        print (\"Not sure!\")\n",
    "        \n",
    "v=findhuby(\"Ayesha\",\"Emaan\")\n",
    "print(\"The type:\",type(v))"
   ]
  },
  {
   "cell_type": "code",
   "execution_count": 98,
   "metadata": {},
   "outputs": [
    {
     "name": "stdout",
     "output_type": "stream",
     "text": [
      "Please enter a number:15\n",
      "Its: 15\n"
     ]
    }
   ],
   "source": [
    "import math as m\n",
    "x=int(input(\"Please enter a number:\"))\n",
    "\n",
    "def rec_eq(x):\n",
    "    y=x+(1/x)"
   ]
  },
  {
   "cell_type": "code",
   "execution_count": 100,
   "metadata": {},
   "outputs": [
    {
     "data": {
      "text/plain": [
       "[1, 4, 9, 16]"
      ]
     },
     "execution_count": 100,
     "metadata": {},
     "output_type": "execute_result"
    }
   ],
   "source": [
    "ls=[1,2,3,4]\n",
    "ls=[x ** 2 for x in range(1,5)]\n",
    "ls"
   ]
  },
  {
   "cell_type": "code",
   "execution_count": null,
   "metadata": {},
   "outputs": [],
   "source": []
  }
 ],
 "metadata": {
  "kernelspec": {
   "display_name": "Python 3",
   "language": "python",
   "name": "python3"
  },
  "language_info": {
   "codemirror_mode": {
    "name": "ipython",
    "version": 3
   },
   "file_extension": ".py",
   "mimetype": "text/x-python",
   "name": "python",
   "nbconvert_exporter": "python",
   "pygments_lexer": "ipython3",
   "version": "3.8.5"
  }
 },
 "nbformat": 4,
 "nbformat_minor": 4
}
