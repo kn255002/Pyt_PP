{
 "cells": [
  {
   "cell_type": "code",
   "execution_count": null,
   "metadata": {},
   "outputs": [],
   "source": [
    "#Pythogh Data Pipelines practices\n"
   ]
  },
  {
   "cell_type": "code",
   "execution_count": 56,
   "metadata": {},
   "outputs": [
    {
     "name": "stdout",
     "output_type": "stream",
     "text": [
      "Hello,  Ayesha !\n",
      "Ayesha :your huby is KN?\n"
     ]
    }
   ],
   "source": [
    "def findhuby(str1,str2):\n",
    "    #Collect info.\n",
    "    \n",
    "    print(\"Hello, \",str1,\"!\")\n",
    "    if str1.upper() == \"Ayesha\".upper():\n",
    "        print(str1,\":your huby is KN?\")\n",
    "    elif str1.upper() == \"Fatima\":\n",
    "        print(\"your huby is Saad?\")\n",
    "    else:\n",
    "        print (\"We are not sure about your huby!\")\n",
    "        \n",
    "findhuby(\"Ayesha\",\"Fatma\")"
   ]
  },
  {
   "cell_type": "code",
   "execution_count": 52,
   "metadata": {},
   "outputs": [
    {
     "data": {
      "text/plain": [
       "64"
      ]
     },
     "execution_count": 52,
     "metadata": {},
     "output_type": "execute_result"
    }
   ],
   "source": [
    "4 ** 3"
   ]
  },
  {
   "cell_type": "code",
   "execution_count": null,
   "metadata": {},
   "outputs": [],
   "source": []
  }
 ],
 "metadata": {
  "kernelspec": {
   "display_name": "Python 3",
   "language": "python",
   "name": "python3"
  },
  "language_info": {
   "codemirror_mode": {
    "name": "ipython",
    "version": 3
   },
   "file_extension": ".py",
   "mimetype": "text/x-python",
   "name": "python",
   "nbconvert_exporter": "python",
   "pygments_lexer": "ipython3",
   "version": "3.8.5"
  }
 },
 "nbformat": 4,
 "nbformat_minor": 4
}
