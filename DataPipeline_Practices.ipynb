{
 "cells": [
  {
   "cell_type": "code",
   "execution_count": 72,
   "metadata": {},
   "outputs": [],
   "source": [
    "#Pythogh Data Pipelines practices\n"
   ]
  },
  {
   "cell_type": "code",
   "execution_count": 73,
   "metadata": {},
   "outputs": [
    {
     "name": "stdout",
     "output_type": "stream",
     "text": [
      "Ayesha and Emaan Love for both of you!\n"
     ]
    }
   ],
   "source": [
    "def findhuby(str1,str2):\n",
    "    #Collect info.\n",
    "    if str1.upper() == \"Ayesha\".upper() or str2.upper() ==\"Emaan\".upper():\n",
    "        print(str1,\"and\",str2,\"Love for both of you!\")\n",
    "    else:\n",
    "        print (\"Not sure!\")\n",
    "        \n",
    "findhuby(\"Ayesha\",\"Emaan\")"
   ]
  },
  {
   "cell_type": "code",
   "execution_count": null,
   "metadata": {},
   "outputs": [],
   "source": []
  }
 ],
 "metadata": {
  "kernelspec": {
   "display_name": "Python 3",
   "language": "python",
   "name": "python3"
  },
  "language_info": {
   "codemirror_mode": {
    "name": "ipython",
    "version": 3
   },
   "file_extension": ".py",
   "mimetype": "text/x-python",
   "name": "python",
   "nbconvert_exporter": "python",
   "pygments_lexer": "ipython3",
   "version": "3.8.5"
  }
 },
 "nbformat": 4,
 "nbformat_minor": 4
}
